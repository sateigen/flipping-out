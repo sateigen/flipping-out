{
 "cells": [
  {
   "cell_type": "code",
   "execution_count": 1,
   "metadata": {
    "collapsed": true
   },
   "outputs": [],
   "source": [
    "import math\n",
    "import random\n",
    "import statistics as st\n",
    "import numpy as np\n",
    "import matplotlib.pyplot as plt\n",
    "import seaborn as sns\n",
    "%matplotlib inline"
   ]
  },
  {
   "cell_type": "markdown",
   "metadata": {},
   "source": [
    "# Flipping Out"
   ]
  },
  {
   "cell_type": "code",
   "execution_count": 6,
   "metadata": {
    "collapsed": false
   },
   "outputs": [],
   "source": [
    "def flip_coin():\n",
    "    return random.randint(1,2)"
   ]
  },
  {
   "cell_type": "code",
   "execution_count": 26,
   "metadata": {
    "collapsed": false
   },
   "outputs": [
    {
     "data": {
      "text/plain": [
       "[(0, 1),\n",
       " (1, 1),\n",
       " (2, 2),\n",
       " (5, 3),\n",
       " (8, 8),\n",
       " (16, 16),\n",
       " (34, 30),\n",
       " (63, 65),\n",
       " (127, 129),\n",
       " (253, 259),\n",
       " (508, 516),\n",
       " (994, 1054),\n",
       " (2018, 2078),\n",
       " (4041, 4151),\n",
       " (8169, 8215),\n",
       " (16421, 16347)]"
      ]
     },
     "execution_count": 26,
     "metadata": {},
     "output_type": "execute_result"
    }
   ],
   "source": [
    "def flip_multiple(n=16):\n",
    "    heads = 0\n",
    "    tails = 0\n",
    "    num_of_flips = 0\n",
    "    list_of_flips = []\n",
    "    for i in range(2**n):\n",
    "        result = flip_coin()\n",
    "        num_of_flips += 1\n",
    "        if result == 1:\n",
    "            heads += 1\n",
    "        else:    \n",
    "            tails += 1\n",
    "        for i in range(n):\n",
    "            if num_of_flips == (2**i:\n",
    "                list_of_flips.append((heads, tails))\n",
    "    return list_of_flips\n",
    "\n",
    "flip_multiple()"
   ]
  },
  {
   "cell_type": "code",
   "execution_count": null,
   "metadata": {
    "collapsed": true
   },
   "outputs": [],
   "source": []
  },
  {
   "cell_type": "code",
   "execution_count": null,
   "metadata": {
    "collapsed": true
   },
   "outputs": [],
   "source": []
  }
 ],
 "metadata": {
  "kernelspec": {
   "display_name": "Python 3",
   "language": "python",
   "name": "python3"
  },
  "language_info": {
   "codemirror_mode": {
    "name": "ipython",
    "version": 3
   },
   "file_extension": ".py",
   "mimetype": "text/x-python",
   "name": "python",
   "nbconvert_exporter": "python",
   "pygments_lexer": "ipython3",
   "version": "3.5.1"
  }
 },
 "nbformat": 4,
 "nbformat_minor": 0
}
