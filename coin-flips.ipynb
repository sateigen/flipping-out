{
 "cells": [
  {
   "cell_type": "code",
   "execution_count": 1,
   "metadata": {
    "collapsed": true
   },
   "outputs": [],
   "source": [
    "import math\n",
    "import random\n",
    "import statistics as st\n",
    "import matplotlib.pyplot as plt\n",
    "import seaborn as sns\n",
    "%matplotlib inline"
   ]
  },
  {
   "cell_type": "code",
   "execution_count": 2,
   "metadata": {
    "collapsed": false
   },
   "outputs": [],
   "source": [
    "sns.set_style(\"whitegrid\")\n",
    "sns.set_palette(\"husl\")"
   ]
  },
  {
   "cell_type": "markdown",
   "metadata": {},
   "source": [
    "# Flipping Out\n",
    "\n",
    "### A series of graphical representations using data gained from flipping a coin 2<sup>n</sup> times. \n",
    "\n",
    "### The graphs include:\n",
    "1. A line plot and scatter plot showing the difference between heads and tails at each recorded point.\n",
    "2. A line plot and scatter plot showing the ratio between heads and tails at each recorded point.\n",
    "3. A scatter plot of the mean heads/tails ratio at each recorded point.\n",
    "4. A scatter plot of the standard deviation of the heads/tails ratio at each recorded point.\n",
    "5. A histogram and box plot showing the ratio of the number of times heads was flipped to the total number of times the coin was flipped during 100,000 trials of 100 flips each.\n",
    "6. A histogram and box plot showing the ratio of the number of times heads was flipped to the total number of times the coin was flipped during 100,000 trials of 1,000 flips each."
   ]
  },
  {
   "cell_type": "markdown",
   "metadata": {},
   "source": [
    "#### Function to randomly pick heads(1) or tails(2) when flipping a coin"
   ]
  },
  {
   "cell_type": "code",
   "execution_count": 3,
   "metadata": {
    "collapsed": false
   },
   "outputs": [],
   "source": [
    "def flip_coin():\n",
    "    return random.randint(1,2)"
   ]
  },
  {
   "cell_type": "markdown",
   "metadata": {},
   "source": [
    "#### Function to flip a coin 2<sup>n</sup> times and return a list of tuples including the number of times heads is flipped and how many times tails is flipped at each record point(2<sup>0</sup>, 2<sup>1</sup>, 2<sup>2</sup> , ... 2<sup>n</sup>)\n",
    "###### n is defaulted to 16"
   ]
  },
  {
   "cell_type": "code",
   "execution_count": 4,
   "metadata": {
    "collapsed": false
   },
   "outputs": [
    {
     "data": {
      "text/plain": [
       "[(0, 1),\n",
       " (0, 2),\n",
       " (2, 2),\n",
       " (3, 5),\n",
       " (7, 9),\n",
       " (13, 19),\n",
       " (26, 38),\n",
       " (52, 76),\n",
       " (120, 136),\n",
       " (266, 246),\n",
       " (507, 517),\n",
       " (1004, 1044),\n",
       " (2018, 2078),\n",
       " (4103, 4089),\n",
       " (8189, 8195),\n",
       " (16476, 16292),\n",
       " (32891, 32645)]"
      ]
     },
     "execution_count": 4,
     "metadata": {},
     "output_type": "execute_result"
    }
   ],
   "source": [
    "\n",
    "def flip_multiple(n=16):\n",
    "    heads = 0\n",
    "    tails = 0\n",
    "    num_of_flips = 0\n",
    "    list_of_flips = []\n",
    "    for i in range(2**n):\n",
    "        result = flip_coin()\n",
    "        num_of_flips += 1\n",
    "        if result == 1:\n",
    "            heads += 1\n",
    "        else:    \n",
    "            tails += 1\n",
    "        for i in range(n + 1):\n",
    "            if num_of_flips == 2**i:\n",
    "                list_of_flips.append((heads, tails))\n",
    "    return list_of_flips\n",
    "\n",
    "flip_multiple()"
   ]
  },
  {
   "cell_type": "markdown",
   "metadata": {},
   "source": [
    "#### Line plot showing the difference between heads and tails at each recorded point."
   ]
  },
  {
   "cell_type": "code",
   "execution_count": 5,
   "metadata": {
    "collapsed": false
   },
   "outputs": [
    {
     "data": {
      "image/png": "[encoded data removed]",
      "text/plain": [
       "<matplotlib.figure.Figure at 0x114017dd8>"
      ]
     },
     "metadata": {},
     "output_type": "display_data"
    }
   ],
   "source": [
    "differences = []\n",
    "list_of_tuples = flip_multiple()\n",
    "for heads, tails in list_of_tuples:\n",
    "    differences.append(math.fabs(heads - tails))\n",
    "\n",
    "\n",
    "\n",
    "plt.plot(differences)\n",
    "plt.show()"
   ]
  },
  {
   "cell_type": "markdown",
   "metadata": {},
   "source": [
    "#### Line plot showing the ratio between heads and tails at each recorded point"
   ]
  },
  {
   "cell_type": "code",
   "execution_count": 6,
   "metadata": {
    "collapsed": false
   },
   "outputs": [
    {
     "data": {
      "image/png": "[encoded data removed]",
      "text/plain": [
       "<matplotlib.figure.Figure at 0x1141398d0>"
      ]
     },
     "metadata": {},
     "output_type": "display_data"
    }
   ],
   "source": [
    "ratios = []\n",
    "list_of_tuples = flip_multiple()\n",
    "for heads, tails in list_of_tuples:\n",
    "    try:\n",
    "        ratios.append(heads / tails)\n",
    "    except ZeroDivisionError:\n",
    "        ratios.append(0)\n",
    "\n",
    "plt.plot(ratios)\n",
    "plt.show()"
   ]
  },
  {
   "cell_type": "markdown",
   "metadata": {},
   "source": [
    "#### Scatter plot showing the difference between heads and tails at each recorded point"
   ]
  },
  {
   "cell_type": "code",
   "execution_count": 7,
   "metadata": {
    "collapsed": false
   },
   "outputs": [
    {
     "data": {
      "image/png": "[encoded data removed]",
      "text/plain": [
       "<matplotlib.figure.Figure at 0x114240b70>"
      ]
     },
     "metadata": {},
     "output_type": "display_data"
    }
   ],
   "source": [
    "differences = []\n",
    "list_of_tuples = flip_multiple()\n",
    "for heads, tails in list_of_tuples:\n",
    "    differences.append(math.fabs(heads - tails))\n",
    "\n",
    "x_values = []\n",
    "for num in range(17):\n",
    "    x_values.append(2**num)\n",
    "    \n",
    "plt.scatter(x_values, differences)\n",
    "plt.xscale('log', basex=2)\n",
    "plt.xlabel('Number of Coin Tosses')\n",
    "plt.ylabel('Difference')\n",
    "plt.title(r'Difference Between Flipping Heads and Tails')\n",
    "plt.show()"
   ]
  },
  {
   "cell_type": "markdown",
   "metadata": {},
   "source": [
    "#### Scatter plot showing the ratio between heads and tails at each recorded point"
   ]
  },
  {
   "cell_type": "code",
   "execution_count": 8,
   "metadata": {
    "collapsed": false
   },
   "outputs": [
    {
     "data": {
      "image/png": "[encoded data removed]",
      "text/plain": [
       "<matplotlib.figure.Figure at 0x1142a9390>"
      ]
     },
     "metadata": {},
     "output_type": "display_data"
    }
   ],
   "source": [
    "ratios = []\n",
    "list_of_tuples = flip_multiple()\n",
    "for heads, tails in list_of_tuples:\n",
    "    try:\n",
    "        ratios.append(heads / tails)\n",
    "    except ZeroDivisionError:\n",
    "        ratios.append(0)\n",
    "\n",
    "plt.scatter(x_values, ratios)\n",
    "plt.xscale('log', basex=2)\n",
    "plt.show()"
   ]
  },
  {
   "cell_type": "markdown",
   "metadata": {},
   "source": [
    "## Observations\n",
    "##### Although there are some outliers to the data, there is a clear pattern in the data.  As the number of times the coin is flipped increases, the difference between the number of times it lands on heads and tails increases, meaning there is a direct correlation between the number of times a coin is flipped and the difference between heads vs. tails being flipped. \n",
    "##### The ratio data also shows a pattern with a few outliers.  Since there is always a 50% chance of flipping heads or tails, a ratio of around 1 is to be expected. This is due to the fact that the number of times heads is flipped should be rather close to the number of times tails is flippes, meaning when you divide the two numbers, your answer should be rather close to 1 whole. The more times you flip the coin, the more accurate this data becomes due to the decreasing impact of the differences between the two possible outcomes."
   ]
  },
  {
   "cell_type": "markdown",
   "metadata": {},
   "source": [
    "#### Collecting the ratio of heads and tails flipped at each record point for 20 trials of  2<sup>16</sup> each"
   ]
  },
  {
   "cell_type": "code",
   "execution_count": 9,
   "metadata": {
    "collapsed": false
   },
   "outputs": [],
   "source": [
    "counter = 1\n",
    "flip_dict = {}\n",
    "while counter <= 20:\n",
    "    heads = 0\n",
    "    tails = 0\n",
    "    num_of_flips = 0\n",
    "    list_of_flips = []\n",
    "    for i in range(2**16):\n",
    "        result = flip_coin()\n",
    "        num_of_flips += 1\n",
    "        if result == 1:\n",
    "            heads += 1\n",
    "        else:    \n",
    "            tails += 1\n",
    "        for i in range(17):\n",
    "            if num_of_flips == 2**i:\n",
    "                try:\n",
    "                    ratio = heads / tails\n",
    "                except ZeroDivisionError:\n",
    "                    ratio = 0\n",
    "                flip_dict.setdefault(i, []).append(ratio)\n",
    "\n",
    "    counter += 1"
   ]
  },
  {
   "cell_type": "markdown",
   "metadata": {},
   "source": [
    "#### Finding the mean of the ratios at each record point\n",
    "##### list[0] = sum of all ratios at record point 2<sup>0</sup> / number or trials"
   ]
  },
  {
   "cell_type": "code",
   "execution_count": 10,
   "metadata": {
    "collapsed": false
   },
   "outputs": [
    {
     "data": {
      "text/plain": [
       "[0.0,\n",
       " 0.55,\n",
       " 1.033333333333333,\n",
       " 1.0466666666666669,\n",
       " 1.0946320346320344,\n",
       " 0.9836076616881574,\n",
       " 0.9261100789112306,\n",
       " 0.9275490857378275,\n",
       " 0.9613536894191306,\n",
       " 0.9845845449659569,\n",
       " 0.9974371982158148,\n",
       " 1.0003788151878628,\n",
       " 1.0099441739287878,\n",
       " 1.0038553248810012,\n",
       " 1.0072776814690927,\n",
       " 1.0013395860604593,\n",
       " 1.0008236637780574]"
      ]
     },
     "execution_count": 10,
     "metadata": {},
     "output_type": "execute_result"
    }
   ],
   "source": [
    "list_of_means = []\n",
    "for key in flip_dict:\n",
    "    list_of_means.append(sum(flip_dict[key]) / 20)\n",
    "\n",
    "list_of_means"
   ]
  },
  {
   "cell_type": "markdown",
   "metadata": {},
   "source": [
    "#### Plotting the mean of the ratios at each record point"
   ]
  },
  {
   "cell_type": "code",
   "execution_count": 11,
   "metadata": {
    "collapsed": false
   },
   "outputs": [
    {
     "data": {
      "image/png": "[encoded data removed]",
      "text/plain": [
       "<matplotlib.figure.Figure at 0x114b66ba8>"
      ]
     },
     "metadata": {},
     "output_type": "display_data"
    }
   ],
   "source": [
    "x_values = []\n",
    "for num in range(17):\n",
    "    x_values.append(2**num)\n",
    "\n",
    "plt.scatter(x_values, list_of_means)\n",
    "plt.xscale('log', basex=2)\n",
    "plt.show()"
   ]
  },
  {
   "cell_type": "markdown",
   "metadata": {},
   "source": [
    "## Observations:\n",
    "##### The data shows that as the number of times a coin is flipped increases, the more similar the outcomes become in each trial. The first time you flip a coin, your ratio of heads to tails will always be either 0 or undefined; however, the graph shows that by about the 2<sup>5</sup> time of flipping the coin, the ratio begins to level out at around 1. Due to the fact that there are is so much data used to create this data set, the data points are much tighter around the ratio of 1. There are fewer and fewer outliers as the number of times the coin is flipped increases."
   ]
  },
  {
   "cell_type": "markdown",
   "metadata": {},
   "source": [
    "#### Finding the standard deviation of the ratios at each record point\n",
    "##### list[0] = st.stdev([ratios at 2<sup>0</sup> for all 20 trials])"
   ]
  },
  {
   "cell_type": "code",
   "execution_count": 12,
   "metadata": {
    "collapsed": false
   },
   "outputs": [
    {
     "data": {
      "text/plain": [
       "[0.0,\n",
       " 0.5104177855340405,\n",
       " 1.0479721437304943,\n",
       " 0.6677535000597941,\n",
       " 0.6929404549943965,\n",
       " 0.29162902287539694,\n",
       " 0.1604545623932309,\n",
       " 0.141362311532892,\n",
       " 0.115030498836047,\n",
       " 0.0706904656861707,\n",
       " 0.04455238837905926,\n",
       " 0.0429522604257303,\n",
       " 0.03903652287433872,\n",
       " 0.02642644949501016,\n",
       " 0.014455318256081491,\n",
       " 0.012579259031768408,\n",
       " 0.008329511718276757]"
      ]
     },
     "execution_count": 12,
     "metadata": {},
     "output_type": "execute_result"
    }
   ],
   "source": [
    "standard_deviations = []\n",
    "for key in flip_dict:\n",
    "    standard_deviations.append(st.stdev(flip_dict[key]))\n",
    "\n",
    "standard_deviations\n"
   ]
  },
  {
   "cell_type": "markdown",
   "metadata": {},
   "source": [
    "#### Plotting the mean of the ratios at each record point"
   ]
  },
  {
   "cell_type": "code",
   "execution_count": 13,
   "metadata": {
    "collapsed": false
   },
   "outputs": [
    {
     "data": {
      "image/png": "[encoded data removed]",
      "text/plain": [
       "<matplotlib.figure.Figure at 0x11410a240>"
      ]
     },
     "metadata": {},
     "output_type": "display_data"
    }
   ],
   "source": [
    "x_values = []\n",
    "for num in range(17):\n",
    "    x_values.append(2**num)\n",
    "\n",
    "plt.scatter(x_values, standard_deviations)\n",
    "plt.xscale('log', basex=2)\n",
    "plt.show()"
   ]
  },
  {
   "cell_type": "markdown",
   "metadata": {},
   "source": [
    "#### Histogram and box plot showing the ratio of flipping heads to the total number of times the coin is flipped \n",
    "##### Data collected over 100,000 trials of 100 coin flips each"
   ]
  },
  {
   "cell_type": "code",
   "execution_count": 14,
   "metadata": {
    "collapsed": false
   },
   "outputs": [],
   "source": [
    "counter = 1\n",
    "list_of_ratios = []\n",
    "while counter <= 100000:\n",
    "    heads = 0\n",
    "    num_of_flips = 0\n",
    "    for i in range(101):\n",
    "        result = flip_coin()\n",
    "        num_of_flips += 1\n",
    "        if result == 1:\n",
    "            heads += 1\n",
    "        try:\n",
    "            ratio = heads / num_of_flips\n",
    "        except ZeroDivisionError:\n",
    "            ratio = 0\n",
    "        list_of_ratios.append(ratio)\n",
    "    counter += 1"
   ]
  },
  {
   "cell_type": "code",
   "execution_count": 15,
   "metadata": {
    "collapsed": false
   },
   "outputs": [
    {
     "data": {
      "image/png": "[encoded data removed]",
      "text/plain": [
       "<matplotlib.figure.Figure at 0x11427ad68>"
      ]
     },
     "metadata": {},
     "output_type": "display_data"
    }
   ],
   "source": [
    "plt.hist(list_of_ratios)\n",
    "mean = st.mean(list_of_ratios)\n",
    "stdev = st.stdev(list_of_ratios)\n",
    "ymin, ymax = plt.ylim()\n",
    "\n",
    "plt.vlines(mean, ymin, ymax, color='red')\n",
    "plt.vlines([mean - 2 * stdev, mean - stdev, mean + stdev, mean + 2 * stdev], ymin, ymax, color='red', linestyles='dashed')\n",
    "plt.show()"
   ]
  },
  {
   "cell_type": "code",
   "execution_count": 16,
   "metadata": {
    "collapsed": false
   },
   "outputs": [
    {
     "data": {
      "image/png": "[encoded data removed]",
      "text/plain": [
       "<matplotlib.figure.Figure at 0x114bab860>"
      ]
     },
     "metadata": {},
     "output_type": "display_data"
    }
   ],
   "source": [
    "plt.boxplot(list_of_ratios)\n",
    "plt.show()"
   ]
  },
  {
   "cell_type": "markdown",
   "metadata": {},
   "source": [
    "#### Histogram and box plot showing the ratio of flipping heads to the total number of times the coin is flipped \n",
    "##### Data collected over 100,000 trials of 1000 coin flips each"
   ]
  },
  {
   "cell_type": "code",
   "execution_count": 17,
   "metadata": {
    "collapsed": false
   },
   "outputs": [],
   "source": [
    "counter = 1\n",
    "list_of_ratios = []\n",
    "while counter <= 100000:\n",
    "    heads = 0\n",
    "    num_of_flips = 0\n",
    "    for i in range(1001):\n",
    "        result = flip_coin()\n",
    "        num_of_flips += 1\n",
    "        if result == 1:\n",
    "            heads += 1\n",
    "        try:\n",
    "            ratio = heads / num_of_flips\n",
    "        except ZeroDivisionError:\n",
    "            ratio = 0\n",
    "        list_of_ratios.append(ratio)\n",
    "    counter += 1"
   ]
  },
  {
   "cell_type": "code",
   "execution_count": 18,
   "metadata": {
    "collapsed": false
   },
   "outputs": [
    {
     "data": {
      "image/png": "[encoded data removed]",
      "text/plain": [
       "<matplotlib.figure.Figure at 0x1249fba58>"
      ]
     },
     "metadata": {},
     "output_type": "display_data"
    }
   ],
   "source": [
    "plt.hist(list_of_ratios)\n",
    "mean = st.mean(list_of_ratios)\n",
    "stdev = st.stdev(list_of_ratios)\n",
    "ymin, ymax = plt.ylim()\n",
    "\n",
    "plt.vlines(mean, ymin, ymax, color='red')\n",
    "plt.vlines([mean - 2 * stdev, mean - stdev, mean + stdev, mean + 2 * stdev], ymin, ymax, color='red', linestyles='dashed')\n",
    "plt.show()"
   ]
  },
  {
   "cell_type": "code",
   "execution_count": 19,
   "metadata": {
    "collapsed": false
   },
   "outputs": [
    {
     "data": {
      "image/png": "[encoded data removed]",
      "text/plain": [
       "<matplotlib.figure.Figure at 0x1142712e8>"
      ]
     },
     "metadata": {},
     "output_type": "display_data"
    }
   ],
   "source": [
    "plt.boxplot(list_of_ratios)\n",
    "plt.show()"
   ]
  },
  {
   "cell_type": "markdown",
   "metadata": {},
   "source": [
    "## Observations:\n",
    "##### The two histograms above show that as the number of times a coin is flipped increases, the tighter the data is to the median. There are still outliers; however, they are weighted less in the data set. Although both graphs show a normal distribution of the data, it is clear that as the number of coin flips increases, each quartile becomes closer to the median."
   ]
  },
  {
   "cell_type": "code",
   "execution_count": null,
   "metadata": {
    "collapsed": true
   },
   "outputs": [],
   "source": []
  }
 ],
 "metadata": {
  "kernelspec": {
   "display_name": "Python 3",
   "language": "python",
   "name": "python3"
  },
  "language_info": {
   "codemirror_mode": {
    "name": "ipython",
    "version": 3
   },
   "file_extension": ".py",
   "mimetype": "text/x-python",
   "name": "python",
   "nbconvert_exporter": "python",
   "pygments_lexer": "ipython3",
   "version": "3.5.1"
  }
 },
 "nbformat": 4,
 "nbformat_minor": 0
}
