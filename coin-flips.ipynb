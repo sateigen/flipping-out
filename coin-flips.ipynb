{
 "cells": [
  {
   "cell_type": "code",
   "execution_count": 2,
   "metadata": {
    "collapsed": true
   },
   "outputs": [],
   "source": [
    "import math\n",
    "import random\n",
    "import statistics as st\n",
    "import numpy as np\n",
    "import matplotlib.pyplot as plt\n",
    "import seaborn as sns\n",
    "%matplotlib inline"
   ]
  },
  {
   "cell_type": "markdown",
   "metadata": {},
   "source": [
    "# Flipping Out"
   ]
  },
  {
   "cell_type": "code",
   "execution_count": 3,
   "metadata": {
    "collapsed": false
   },
   "outputs": [],
   "source": [
    "def flip_coin():\n",
    "    return random.randint(1,2)"
   ]
  },
  {
   "cell_type": "code",
   "execution_count": 4,
   "metadata": {
    "collapsed": false
   },
   "outputs": [
    {
     "data": {
      "text/plain": [
       "[(0, 1),\n",
       " (1, 1),\n",
       " (2, 2),\n",
       " (5, 3),\n",
       " (9, 7),\n",
       " (16, 16),\n",
       " (33, 31),\n",
       " (66, 62),\n",
       " (127, 129),\n",
       " (260, 252),\n",
       " (512, 512),\n",
       " (1034, 1014),\n",
       " (2045, 2051),\n",
       " (4092, 4100),\n",
       " (8211, 8173),\n",
       " (16371, 16397)]"
      ]
     },
     "execution_count": 4,
     "metadata": {},
     "output_type": "execute_result"
    }
   ],
   "source": [
    "\n",
    "def flip_multiple(n=16):\n",
    "    heads = 0\n",
    "    tails = 0\n",
    "    num_of_flips = 0\n",
    "    list_of_flips = []\n",
    "    for i in range(2**n):\n",
    "        result = flip_coin()\n",
    "        num_of_flips += 1\n",
    "        if result == 1:\n",
    "            heads += 1\n",
    "        else:    \n",
    "            tails += 1\n",
    "        for i in range(n):\n",
    "            if num_of_flips == 2**i:\n",
    "                list_of_flips.append((heads, tails))\n",
    "    return list_of_flips\n",
    "\n",
    "flip_multiple()"
   ]
  },
  {
   "cell_type": "code",
   "execution_count": 5,
   "metadata": {
    "collapsed": false
   },
   "outputs": [
    {
     "data": {
      "image/png": "[encoded data removed]",
      "text/plain": [
       "<matplotlib.figure.Figure at 0x10efe03c8>"
      ]
     },
     "metadata": {},
     "output_type": "display_data"
    }
   ],
   "source": [
    "differences = []\n",
    "list_of_tuples = flip_multiple()\n",
    "for heads, tails in list_of_tuples:\n",
    "    differences.append(math.fabs(heads - tails))\n",
    "\n",
    "plt.plot(differences)\n",
    "plt.show()"
   ]
  },
  {
   "cell_type": "code",
   "execution_count": 8,
   "metadata": {
    "collapsed": false
   },
   "outputs": [
    {
     "data": {
      "image/png": "[encoded data removed]",
      "text/plain": [
       "<matplotlib.figure.Figure at 0x10f18c080>"
      ]
     },
     "metadata": {},
     "output_type": "display_data"
    }
   ],
   "source": [
    "ratios = []\n",
    "list_of_tuples = flip_multiple()\n",
    "for heads, tails in list_of_tuples:\n",
    "    try:\n",
    "        ratios.append(heads / tails)\n",
    "    except ZeroDivisionError:\n",
    "        ratios.append(0)\n",
    "plt.plot(ratios)\n",
    "plt.show()"
   ]
  },
  {
   "cell_type": "code",
   "execution_count": null,
   "metadata": {
    "collapsed": true
   },
   "outputs": [],
   "source": []
  }
 ],
 "metadata": {
  "kernelspec": {
   "display_name": "Python 3",
   "language": "python",
   "name": "python3"
  },
  "language_info": {
   "codemirror_mode": {
    "name": "ipython",
    "version": 3
   },
   "file_extension": ".py",
   "mimetype": "text/x-python",
   "name": "python",
   "nbconvert_exporter": "python",
   "pygments_lexer": "ipython3",
   "version": "3.5.1"
  }
 },
 "nbformat": 4,
 "nbformat_minor": 0
}
