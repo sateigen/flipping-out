{
 "cells": [
  {
   "cell_type": "code",
   "execution_count": 42,
   "metadata": {
    "collapsed": true
   },
   "outputs": [],
   "source": [
    "import math\n",
    "import random\n",
    "import statistics as st\n",
    "import numpy as np\n",
    "import matplotlib.pyplot as plt\n",
    "import seaborn as sns\n",
    "%matplotlib inline"
   ]
  },
  {
   "cell_type": "markdown",
   "metadata": {},
   "source": [
    "# Flipping Out\n",
    "\n",
    "### A series of graphical representations using data gained from flipping a coin 2<sup>n</sup> times. \n",
    "\n",
    "### The graphs include:\n",
    "1. A line plot and scatter plot showing the difference between heads and tails at each recorded point.\n",
    "2. A line plot and scatter plot showing the ratio between heads and tails at each recorded point.\n",
    "3. A scatter plot of the mean heads/tails ratio at each recorded point.\n",
    "4. A scatter plot of the standard deviation of the heads/tails ratio at each recorded point."
   ]
  },
  {
   "cell_type": "markdown",
   "metadata": {},
   "source": [
    "#### Function to randomly pick heads(1) or tails(2) when flipping a coin"
   ]
  },
  {
   "cell_type": "code",
   "execution_count": 43,
   "metadata": {
    "collapsed": false
   },
   "outputs": [],
   "source": [
    "def flip_coin():\n",
    "    return random.randint(1,2)"
   ]
  },
  {
   "cell_type": "markdown",
   "metadata": {},
   "source": [
    "#### Function to flip a coin 2<sup>n</sup> times and return a list of tuples including the number of times heads is flipped and how many times tails is flipped at each record point(2<sup>0</sup>, 2<sup>1</sup>, 2<sup>2</sup> , ... 2<sup>n</sup>)\n",
    "###### n is defaulted to 16"
   ]
  },
  {
   "cell_type": "code",
   "execution_count": 93,
   "metadata": {
    "collapsed": false
   },
   "outputs": [
    {
     "data": {
      "text/plain": [
       "[(1, 0),\n",
       " (1, 1),\n",
       " (2, 2),\n",
       " (4, 4),\n",
       " (5, 11),\n",
       " (17, 15),\n",
       " (31, 33),\n",
       " (65, 63),\n",
       " (126, 130),\n",
       " (252, 260),\n",
       " (512, 512),\n",
       " (1022, 1026),\n",
       " (2034, 2062),\n",
       " (4038, 4154),\n",
       " (8070, 8314),\n",
       " (16353, 16415),\n",
       " (32886, 32650)]"
      ]
     },
     "execution_count": 93,
     "metadata": {},
     "output_type": "execute_result"
    }
   ],
   "source": [
    "\n",
    "def flip_multiple(n=16):\n",
    "    heads = 0\n",
    "    tails = 0\n",
    "    num_of_flips = 0\n",
    "    list_of_flips = []\n",
    "    for i in range(2**n):\n",
    "        result = flip_coin()\n",
    "        num_of_flips += 1\n",
    "        if result == 1:\n",
    "            heads += 1\n",
    "        else:    \n",
    "            tails += 1\n",
    "        for i in range(n + 1):\n",
    "            if num_of_flips == 2**i:\n",
    "                list_of_flips.append((heads, tails))\n",
    "    return list_of_flips\n",
    "\n",
    "flip_multiple()"
   ]
  },
  {
   "cell_type": "markdown",
   "metadata": {},
   "source": [
    "#### Line plot showing the difference between heads and tails at each recorded point."
   ]
  },
  {
   "cell_type": "code",
   "execution_count": 94,
   "metadata": {
    "collapsed": false
   },
   "outputs": [
    {
     "data": {
      "image/png": "[encoded data removed]",
      "text/plain": [
       "<matplotlib.figure.Figure at 0x10eb162e8>"
      ]
     },
     "metadata": {},
     "output_type": "display_data"
    }
   ],
   "source": [
    "differences = []\n",
    "list_of_tuples = flip_multiple()\n",
    "for heads, tails in list_of_tuples:\n",
    "    differences.append(math.fabs(heads - tails))\n",
    "\n",
    "plt.plot(differences)\n",
    "plt.show()"
   ]
  },
  {
   "cell_type": "markdown",
   "metadata": {},
   "source": [
    "#### Line plot showing the ratio between heads and tails at each recorded point"
   ]
  },
  {
   "cell_type": "code",
   "execution_count": 95,
   "metadata": {
    "collapsed": false
   },
   "outputs": [
    {
     "data": {
      "image/png": "[encoded data removed]",
      "text/plain": [
       "<matplotlib.figure.Figure at 0x107bdca20>"
      ]
     },
     "metadata": {},
     "output_type": "display_data"
    }
   ],
   "source": [
    "ratios = []\n",
    "list_of_tuples = flip_multiple()\n",
    "for heads, tails in list_of_tuples:\n",
    "    try:\n",
    "        ratios.append(heads / tails)\n",
    "    except ZeroDivisionError:\n",
    "        ratios.append(0)\n",
    "\n",
    "plt.plot(ratios)\n",
    "plt.show()"
   ]
  },
  {
   "cell_type": "markdown",
   "metadata": {},
   "source": [
    "#### Scatter plot showing the difference between heads and tails at each recorded point"
   ]
  },
  {
   "cell_type": "code",
   "execution_count": 101,
   "metadata": {
    "collapsed": false
   },
   "outputs": [
    {
     "data": {
      "image/png": "[encoded data removed]",
      "text/plain": [
       "<matplotlib.figure.Figure at 0x10f1a0630>"
      ]
     },
     "metadata": {},
     "output_type": "display_data"
    }
   ],
   "source": [
    "differences = []\n",
    "list_of_tuples = flip_multiple()\n",
    "for heads, tails in list_of_tuples:\n",
    "    differences.append(math.fabs(heads - tails))\n",
    "\n",
    "x_values = []\n",
    "for num in range(17):\n",
    "    x_values.append(2**num)\n",
    "    \n",
    "plt.scatter(x_values, differences)\n",
    "plt.xscale('log', basex=2)\n",
    "plt.show()"
   ]
  },
  {
   "cell_type": "markdown",
   "metadata": {},
   "source": [
    "#### Scatter plot showing the ratio between heads and tails at each recorded point"
   ]
  },
  {
   "cell_type": "code",
   "execution_count": 103,
   "metadata": {
    "collapsed": false
   },
   "outputs": [
    {
     "data": {
      "image/png": "[encoded data removed]",
      "text/plain": [
       "<matplotlib.figure.Figure at 0x10f83e710>"
      ]
     },
     "metadata": {},
     "output_type": "display_data"
    }
   ],
   "source": [
    "ratios = []\n",
    "list_of_tuples = flip_multiple()\n",
    "for heads, tails in list_of_tuples:\n",
    "    try:\n",
    "        ratios.append(heads / tails)\n",
    "    except ZeroDivisionError:\n",
    "        ratios.append(0)\n",
    "\n",
    "plt.scatter(x_values, ratios)\n",
    "plt.xscale('log', basex=2)\n",
    "plt.show()"
   ]
  },
  {
   "cell_type": "markdown",
   "metadata": {},
   "source": [
    "## Observations\n",
    "##### Although there are some outliers to the data, there is a clear pattern in the data.  As the number of times the coin is flipped increases, the difference between the number of times it lands on heads and tails increases, meaning there is a direct correlation between the number of times a coin is flipped and the difference between heads vs. tails being flipped. \n",
    "##### The ratio data also shows a pattern with a few outliers.  Since there is always a 50% chance of flipping heads or tails, a ratio of around 1 is to be expected. This is due to the fact that the number of times heads is flipped should be rather close to the number of times tails is flippes, meaning when you divide the two numbers, your answer should be rather close to 1 whole. The more times you flip the coin, the more accurate this data becomes due to the decreasing impact of the differences between the two possible outcomes."
   ]
  },
  {
   "cell_type": "markdown",
   "metadata": {},
   "source": [
    "#### Collecting the ratio of heads and tails flipped at each record point for 20 trials of  2<sup>16</sup> each"
   ]
  },
  {
   "cell_type": "code",
   "execution_count": 90,
   "metadata": {
    "collapsed": false
   },
   "outputs": [
    {
     "data": {
      "text/plain": [
       "{0: [0.0,\n",
       "  0,\n",
       "  0,\n",
       "  0,\n",
       "  0.0,\n",
       "  0.0,\n",
       "  0,\n",
       "  0,\n",
       "  0.0,\n",
       "  0.0,\n",
       "  0.0,\n",
       "  0,\n",
       "  0.0,\n",
       "  0.0,\n",
       "  0,\n",
       "  0,\n",
       "  0.0,\n",
       "  0,\n",
       "  0.0,\n",
       "  0],\n",
       " 1: [0.0,\n",
       "  0,\n",
       "  0,\n",
       "  0,\n",
       "  1.0,\n",
       "  1.0,\n",
       "  1.0,\n",
       "  1.0,\n",
       "  1.0,\n",
       "  1.0,\n",
       "  1.0,\n",
       "  1.0,\n",
       "  0.0,\n",
       "  0.0,\n",
       "  1.0,\n",
       "  0,\n",
       "  1.0,\n",
       "  1.0,\n",
       "  0.0,\n",
       "  1.0],\n",
       " 2: [0.3333333333333333,\n",
       "  3.0,\n",
       "  1.0,\n",
       "  3.0,\n",
       "  1.0,\n",
       "  0.3333333333333333,\n",
       "  1.0,\n",
       "  3.0,\n",
       "  1.0,\n",
       "  1.0,\n",
       "  1.0,\n",
       "  1.0,\n",
       "  0.3333333333333333,\n",
       "  0.3333333333333333,\n",
       "  1.0,\n",
       "  3.0,\n",
       "  1.0,\n",
       "  1.0,\n",
       "  0.3333333333333333,\n",
       "  1.0],\n",
       " 3: [1.0,\n",
       "  3.0,\n",
       "  1.6666666666666667,\n",
       "  7.0,\n",
       "  1.6666666666666667,\n",
       "  0.6,\n",
       "  0.6,\n",
       "  1.0,\n",
       "  1.0,\n",
       "  0.3333333333333333,\n",
       "  1.0,\n",
       "  1.0,\n",
       "  0.6,\n",
       "  0.3333333333333333,\n",
       "  0.6,\n",
       "  1.6666666666666667,\n",
       "  1.0,\n",
       "  0.6,\n",
       "  0.6,\n",
       "  1.0],\n",
       " 4: [0.6,\n",
       "  2.2,\n",
       "  0.6,\n",
       "  3.0,\n",
       "  1.6666666666666667,\n",
       "  0.7777777777777778,\n",
       "  0.7777777777777778,\n",
       "  2.2,\n",
       "  1.0,\n",
       "  0.7777777777777778,\n",
       "  0.45454545454545453,\n",
       "  1.2857142857142858,\n",
       "  1.0,\n",
       "  0.45454545454545453,\n",
       "  1.0,\n",
       "  1.6666666666666667,\n",
       "  1.0,\n",
       "  0.6,\n",
       "  1.2857142857142858,\n",
       "  1.0],\n",
       " 5: [0.8823529411764706,\n",
       "  1.4615384615384615,\n",
       "  0.45454545454545453,\n",
       "  2.5555555555555554,\n",
       "  2.2,\n",
       "  1.1333333333333333,\n",
       "  0.8823529411764706,\n",
       "  1.6666666666666667,\n",
       "  1.0,\n",
       "  0.7777777777777778,\n",
       "  0.5238095238095238,\n",
       "  1.0,\n",
       "  1.0,\n",
       "  0.5238095238095238,\n",
       "  1.0,\n",
       "  1.2857142857142858,\n",
       "  1.1333333333333333,\n",
       "  0.6842105263157895,\n",
       "  1.4615384615384615,\n",
       "  1.2857142857142858],\n",
       " 6: [1.0,\n",
       "  1.206896551724138,\n",
       "  0.6410256410256411,\n",
       "  1.6666666666666667,\n",
       "  0.8823529411764706,\n",
       "  0.8823529411764706,\n",
       "  1.1333333333333333,\n",
       "  1.56,\n",
       "  1.0,\n",
       "  0.7777777777777778,\n",
       "  0.5609756097560976,\n",
       "  1.3703703703703705,\n",
       "  1.064516129032258,\n",
       "  0.9393939393939394,\n",
       "  0.7777777777777778,\n",
       "  1.1333333333333333,\n",
       "  1.0,\n",
       "  0.8823529411764706,\n",
       "  1.064516129032258,\n",
       "  1.1333333333333333],\n",
       " 7: [1.0,\n",
       "  1.1333333333333333,\n",
       "  0.7777777777777778,\n",
       "  1.064516129032258,\n",
       "  0.8823529411764706,\n",
       "  0.8823529411764706,\n",
       "  1.3703703703703705,\n",
       "  1.098360655737705,\n",
       "  0.9104477611940298,\n",
       "  1.206896551724138,\n",
       "  0.6842105263157895,\n",
       "  1.206896551724138,\n",
       "  1.064516129032258,\n",
       "  0.8285714285714286,\n",
       "  1.064516129032258,\n",
       "  0.8285714285714286,\n",
       "  0.8823529411764706,\n",
       "  1.0317460317460319,\n",
       "  1.064516129032258,\n",
       "  0.9692307692307692],\n",
       " 8: [1.08130081300813,\n",
       "  1.064516129032258,\n",
       "  0.9393939393939394,\n",
       "  0.9541984732824428,\n",
       "  0.7902097902097902,\n",
       "  0.924812030075188,\n",
       "  1.1694915254237288,\n",
       "  1.1694915254237288,\n",
       "  0.8962962962962963,\n",
       "  1.206896551724138,\n",
       "  0.8285714285714286,\n",
       "  1.2260869565217392,\n",
       "  0.9104477611940298,\n",
       "  0.924812030075188,\n",
       "  1.0,\n",
       "  0.7534246575342466,\n",
       "  1.064516129032258,\n",
       "  0.9104477611940298,\n",
       "  0.924812030075188,\n",
       "  0.9541984732824428],\n",
       " 9: [1.098360655737705,\n",
       "  1.0398406374501992,\n",
       "  0.9393939393939394,\n",
       "  0.9616858237547893,\n",
       "  0.8754578754578755,\n",
       "  1.023715415019763,\n",
       "  1.0562248995983936,\n",
       "  1.023715415019763,\n",
       "  1.0317460317460319,\n",
       "  1.089795918367347,\n",
       "  1.0,\n",
       "  1.115702479338843,\n",
       "  0.8892988929889298,\n",
       "  1.007843137254902,\n",
       "  0.9033457249070632,\n",
       "  0.841726618705036,\n",
       "  1.1333333333333333,\n",
       "  1.023715415019763,\n",
       "  0.9176029962546817,\n",
       "  1.007843137254902],\n",
       " 10: [0.9883495145631068,\n",
       "  1.0521042084168337,\n",
       "  0.9730250481695568,\n",
       "  0.9320754716981132,\n",
       "  0.928436911487759,\n",
       "  0.9692307692307692,\n",
       "  0.9579349904397706,\n",
       "  1.0357852882703777,\n",
       "  1.0398406374501992,\n",
       "  1.023715415019763,\n",
       "  1.0686868686868687,\n",
       "  1.1200828157349896,\n",
       "  0.9883495145631068,\n",
       "  1.0277227722772277,\n",
       "  0.9393939393939394,\n",
       "  0.8720292504570384,\n",
       "  1.0197238658777121,\n",
       "  1.0117878192534382,\n",
       "  1.0039138943248533,\n",
       "  0.9467680608365019],\n",
       " 11: [0.9302544769085768,\n",
       "  1.0337636544190665,\n",
       "  0.978743961352657,\n",
       "  0.9825750242013552,\n",
       "  0.9902818270165209,\n",
       "  1.0337636544190665,\n",
       "  0.9922178988326849,\n",
       "  1.0117878192534382,\n",
       "  1.0297324083250743,\n",
       "  1.0357852882703777,\n",
       "  1.0398406374501992,\n",
       "  1.1069958847736625,\n",
       "  1.0357852882703777,\n",
       "  1.037810945273632,\n",
       "  1.0418743768693919,\n",
       "  0.9654510556621881,\n",
       "  1.0177339901477833,\n",
       "  1.0,\n",
       "  0.9749276759884281,\n",
       "  0.9523355576739753],\n",
       " 12: [0.9844961240310077,\n",
       "  1.0247157686604054,\n",
       "  0.9720751083293211,\n",
       "  0.9467680608365019,\n",
       "  1.0048947626040137,\n",
       "  1.0029339853300734,\n",
       "  0.9970745977571916,\n",
       "  1.0531328320802005,\n",
       "  1.0247157686604054,\n",
       "  1.0613990941117262,\n",
       "  1.0108001963672066,\n",
       "  1.0510766149223836,\n",
       "  1.0449326010983524,\n",
       "  1.0247157686604054,\n",
       "  1.0603621730382293,\n",
       "  0.9816158684083213,\n",
       "  0.9922178988326849,\n",
       "  0.9980487804878049,\n",
       "  0.9864209505334627,\n",
       "  0.9816158684083213],\n",
       " 13: [0.9922178988326849,\n",
       "  1.0423834455248069,\n",
       "  1.007351139426611,\n",
       "  0.9777885079671657,\n",
       "  1.024215468248085,\n",
       "  0.9820953302685701,\n",
       "  0.9951290793960058,\n",
       "  1.036291324881929,\n",
       "  1.0287270926201089,\n",
       "  1.0217176702862785,\n",
       "  1.0004884004884005,\n",
       "  1.0287270926201089,\n",
       "  1.008335376317725,\n",
       "  1.0317460317460319,\n",
       "  1.033258873169521,\n",
       "  0.9883495145631068,\n",
       "  1.0093205788570028,\n",
       "  1.007843137254902,\n",
       "  1.0009770395701025,\n",
       "  0.9797003383276945],\n",
       " 14: [0.993915054156018,\n",
       "  1.0449326010983524,\n",
       "  0.9995118379301928,\n",
       "  0.9842557829720238,\n",
       "  1.0100601153232731,\n",
       "  0.9785050114720444,\n",
       "  0.9806576402321083,\n",
       "  1.01798251016135,\n",
       "  1.0019550342130987,\n",
       "  1.0130237129868533,\n",
       "  1.022965798246697,\n",
       "  1.0135184957601082,\n",
       "  0.987384764677341,\n",
       "  1.016988797242398,\n",
       "  1.003668827198239,\n",
       "  1.0009770395701025,\n",
       "  1.016988797242398,\n",
       "  0.9997558891736849,\n",
       "  0.9995118379301928,\n",
       "  0.981136638452237],\n",
       " 15: [1.0033013388763221,\n",
       "  1.0183554049892207,\n",
       "  0.9924601726863675,\n",
       "  0.984375946224187,\n",
       "  1.0219671726521042,\n",
       "  0.9906445537938157,\n",
       "  0.9945218820378599,\n",
       "  1.0178582425026172,\n",
       "  1.0031788727228268,\n",
       "  1.0159960625076905,\n",
       "  1.0166164071635178,\n",
       "  0.9970745977571916,\n",
       "  0.9967095240996893,\n",
       "  0.9884701741610534,\n",
       "  1.008335376317725,\n",
       "  0.9975615703486954,\n",
       "  1.0084584737971192,\n",
       "  1.0117878192534382,\n",
       "  1.0003662780050058,\n",
       "  0.9792220343078039],\n",
       " 16: [1.0018938815407643,\n",
       "  1.010676811683132,\n",
       "  0.9993898346451888,\n",
       "  0.9867822712665979,\n",
       "  1.009936821443906,\n",
       "  0.9970745977571916,\n",
       "  1.006306444206337,\n",
       "  1.0091357797602625,\n",
       "  0.995918988883813,\n",
       "  1.0062450254086819,\n",
       "  0.9985362283483776,\n",
       "  1.001832732604313,\n",
       "  1.0048334302058797,\n",
       "  0.9922784617723058,\n",
       "  1.002322028719829,\n",
       "  1.003668827198239,\n",
       "  1.0029339853300734,\n",
       "  1.0087047140317538,\n",
       "  1.0025667664853632,\n",
       "  0.989073691878111]}"
      ]
     },
     "execution_count": 90,
     "metadata": {},
     "output_type": "execute_result"
    }
   ],
   "source": [
    "counter = 1\n",
    "flip_dict = {}\n",
    "while counter <= 20:\n",
    "    heads = 0\n",
    "    tails = 0\n",
    "    num_of_flips = 0\n",
    "    list_of_flips = []\n",
    "    for i in range(2**16):\n",
    "        result = flip_coin()\n",
    "        num_of_flips += 1\n",
    "        if result == 1:\n",
    "            heads += 1\n",
    "        else:    \n",
    "            tails += 1\n",
    "        for i in range(17):\n",
    "            if num_of_flips == 2**i:\n",
    "                try:\n",
    "                    ratio = heads / tails\n",
    "                except ZeroDivisionError:\n",
    "                    ratio = 0\n",
    "                flip_dict.setdefault(i, []).append(ratio)\n",
    "\n",
    "    counter += 1\n",
    "flip_dict\n",
    "\n"
   ]
  },
  {
   "cell_type": "markdown",
   "metadata": {},
   "source": [
    "#### Finding the mean of the ratios at each record point\n",
    "##### list[0] = sum of all ratios at record point 2<sup>0</sup> / number or trials"
   ]
  },
  {
   "cell_type": "code",
   "execution_count": 91,
   "metadata": {
    "collapsed": false
   },
   "outputs": [
    {
     "data": {
      "text/plain": [
       "[0.0,\n",
       " 0.6,\n",
       " 1.2333333333333332,\n",
       " 1.3133333333333335,\n",
       " 1.1673593073593076,\n",
       " 1.1456126536002695,\n",
       " 1.0338487708043167,\n",
       " 0.9975768262977691,\n",
       " 0.9846962150675095,\n",
       " 0.999017417330163,\n",
       " 0.9949478528075962,\n",
       " 1.0095830712554228,\n",
       " 1.010200641157901,\n",
       " 1.0098331670183422,\n",
       " 1.0033848093019357,\n",
       " 1.0023630952102125,\n",
       " 1.0015055661585062]"
      ]
     },
     "execution_count": 91,
     "metadata": {},
     "output_type": "execute_result"
    }
   ],
   "source": [
    "list_of_means = []\n",
    "for key in flip_dict:\n",
    "    list_of_means.append(sum(flip_dict[key]) / 20)\n",
    "\n",
    "list_of_means"
   ]
  },
  {
   "cell_type": "markdown",
   "metadata": {},
   "source": [
    "#### Plotting the mean of the ratios at each record point"
   ]
  },
  {
   "cell_type": "code",
   "execution_count": 83,
   "metadata": {
    "collapsed": false
   },
   "outputs": [
    {
     "data": {
      "image/png": "[encoded data removed]",
      "text/plain": [
       "<matplotlib.figure.Figure at 0x10f0322b0>"
      ]
     },
     "metadata": {},
     "output_type": "display_data"
    }
   ],
   "source": [
    "x_values = []\n",
    "for num in range(17):\n",
    "    x_values.append(2**num)\n",
    "\n",
    "plt.scatter(x_values, list_of_means)\n",
    "plt.xscale('log', basex=2)\n",
    "plt.show()"
   ]
  },
  {
   "cell_type": "markdown",
   "metadata": {},
   "source": [
    "## Observations:"
   ]
  },
  {
   "cell_type": "markdown",
   "metadata": {},
   "source": [
    "#### Finding the standard deviation of the ratios at each record point\n",
    "##### list[0] = st.stdev([ratios at 2<sup>0</sup> for all 20 trials])"
   ]
  },
  {
   "cell_type": "code",
   "execution_count": 85,
   "metadata": {
    "collapsed": false
   },
   "outputs": [
    {
     "data": {
      "text/plain": [
       "[0.0,\n",
       " 0.512989176042577,\n",
       " 1.1192102478745307,\n",
       " 0.8493092325968752,\n",
       " 0.6291690964849905,\n",
       " 0.44159298880076975,\n",
       " 0.28148972541906375,\n",
       " 0.18292074612057596,\n",
       " 0.13383197163953342,\n",
       " 0.08485485723175899,\n",
       " 0.05647740955145201,\n",
       " 0.03883897872209778,\n",
       " 0.030665076112001657,\n",
       " 0.022318148720802417,\n",
       " 0.01576539898858991,\n",
       " 0.011319437162648945,\n",
       " 0.009328334096736576]"
      ]
     },
     "execution_count": 85,
     "metadata": {},
     "output_type": "execute_result"
    }
   ],
   "source": [
    "standard_deviations = []\n",
    "for key in flip_dict:\n",
    "    standard_deviations.append(st.stdev(flip_dict[key]))\n",
    "\n",
    "standard_deviations\n"
   ]
  },
  {
   "cell_type": "markdown",
   "metadata": {},
   "source": [
    "#### Plotting the mean of the ratios at each record point"
   ]
  },
  {
   "cell_type": "code",
   "execution_count": 89,
   "metadata": {
    "collapsed": false
   },
   "outputs": [
    {
     "data": {
      "image/png": "[encoded data removed]",
      "text/plain": [
       "<matplotlib.figure.Figure at 0x10efc6eb8>"
      ]
     },
     "metadata": {},
     "output_type": "display_data"
    }
   ],
   "source": [
    "x_values = []\n",
    "for num in range(17):\n",
    "    x_values.append(2**num)\n",
    "\n",
    "plt.scatter(x_values, standard_deviations)\n",
    "plt.xscale('log', basex=2)\n",
    "plt.show()"
   ]
  },
  {
   "cell_type": "code",
   "execution_count": null,
   "metadata": {
    "collapsed": true
   },
   "outputs": [],
   "source": []
  }
 ],
 "metadata": {
  "kernelspec": {
   "display_name": "Python 3",
   "language": "python",
   "name": "python3"
  },
  "language_info": {
   "codemirror_mode": {
    "name": "ipython",
    "version": 3
   },
   "file_extension": ".py",
   "mimetype": "text/x-python",
   "name": "python",
   "nbconvert_exporter": "python",
   "pygments_lexer": "ipython3",
   "version": "3.5.1"
  }
 },
 "nbformat": 4,
 "nbformat_minor": 0
}
